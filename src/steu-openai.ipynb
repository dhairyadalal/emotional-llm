{
 "cells": [
  {
   "cell_type": "code",
   "execution_count": 2,
   "metadata": {},
   "outputs": [],
   "source": [
    "from string import Template\n",
    "import pandas as pd \n",
    "from openai import OpenAI\n",
    "import re\n",
    "import os"
   ]
  },
  {
   "cell_type": "code",
   "execution_count": 26,
   "metadata": {},
   "outputs": [],
   "source": [
    "\n",
    "\n",
    "client = OpenAI(api_key=\"\")\n",
    "\n",
    "def extract_answer_and_explanation(response_text):\n",
    "    pattern = re.compile(r\"answer:\\s*(.*?)\\s*\\nexplanation:\\s*(.*)\", re.DOTALL | re.IGNORECASE)\n",
    "    matches = pattern.search(response_text)\n",
    "    if matches:\n",
    "        answer = matches.group(1)\n",
    "        explanation = matches.group(2)\n",
    "        return answer, explanation\n",
    "    else:\n",
    "        return None, None\n",
    "\n",
    "def query_openai(prompt: str) -> str:\n",
    "    response = client.chat.completions.create(\n",
    "        model=\"gpt-4o-mini\",\n",
    "        messages=[{\"role\": \"user\", \"content\": [{\"type\": \"text\", \"text\": prompt}]}],\n",
    "        temperature=1,\n",
    "        max_tokens=150,\n",
    "        top_p=1,\n",
    "        frequency_penalty=0,\n",
    "        presence_penalty=0,\n",
    "        response_format={\"type\": \"text\"}\n",
    "    )\n",
    "    return response.choices[0].message.content\n",
    "\n",
    "\n",
    "prompt_template = \"\"\"\n",
    "For the provided situation choose which of five emotions is most likely to result from that situation. \n",
    "First provide the correct letter and the a brief explanation.\n",
    "\n",
    "Example: \n",
    "Situation: \n",
    "Bob saw a cat and yawned.\n",
    "A. Happy B. Angry C. Frightened D. Bored E. Hungry\n",
    "\n",
    "Answer: D\n",
    "Explanation: In the given situation, Bob yawning upon seeing a cat typically suggests a lack \n",
    "of interest or excitement, indicating boredom. \n",
    "\n",
    "Situation: \n",
    "$situation\n",
    "\"\"\"\n",
    "\n",
    "questions = pd.read_csv(\"../data/steu-abilities-test.csv\")"
   ]
  },
  {
   "cell_type": "code",
   "execution_count": 28,
   "metadata": {},
   "outputs": [
    {
     "data": {
      "application/vnd.jupyter.widget-view+json": {
       "model_id": "6168ccdbeb924428a616a045ff5547e8",
       "version_major": 2,
       "version_minor": 0
      },
      "text/plain": [
       "  0%|          | 0/43 [00:00<?, ?it/s]"
      ]
     },
     "metadata": {},
     "output_type": "display_data"
    },
    {
     "data": {
      "text/html": [
       "<div>\n",
       "<style scoped>\n",
       "    .dataframe tbody tr th:only-of-type {\n",
       "        vertical-align: middle;\n",
       "    }\n",
       "\n",
       "    .dataframe tbody tr th {\n",
       "        vertical-align: top;\n",
       "    }\n",
       "\n",
       "    .dataframe thead th {\n",
       "        text-align: right;\n",
       "    }\n",
       "</style>\n",
       "<table border=\"1\" class=\"dataframe\">\n",
       "  <thead>\n",
       "    <tr style=\"text-align: right;\">\n",
       "      <th></th>\n",
       "      <th>Instructions</th>\n",
       "      <th>situation</th>\n",
       "      <th>A</th>\n",
       "      <th>B</th>\n",
       "      <th>C</th>\n",
       "      <th>D</th>\n",
       "      <th>E</th>\n",
       "      <th>answer label</th>\n",
       "      <th>answer</th>\n",
       "      <th>pred</th>\n",
       "      <th>explanation</th>\n",
       "      <th>response</th>\n",
       "      <th>is_correct</th>\n",
       "    </tr>\n",
       "  </thead>\n",
       "  <tbody>\n",
       "    <tr>\n",
       "      <th>0</th>\n",
       "      <td>The following questions each describe a situat...</td>\n",
       "      <td>Clara receives a gift. Clara is most likely to...</td>\n",
       "      <td>Happy</td>\n",
       "      <td>Angry</td>\n",
       "      <td>Frightened</td>\n",
       "      <td>Bored</td>\n",
       "      <td>Hungry</td>\n",
       "      <td>A</td>\n",
       "      <td>Happy</td>\n",
       "      <td>A</td>\n",
       "      <td>Receiving a gift usually evokes feelings of ha...</td>\n",
       "      <td>Answer: A  \\nExplanation: Receiving a gift usu...</td>\n",
       "      <td>1</td>\n",
       "    </tr>\n",
       "    <tr>\n",
       "      <th>1</th>\n",
       "      <td>The following questions each describe a situat...</td>\n",
       "      <td>A pleasant experience ceases unexpectedly and ...</td>\n",
       "      <td>Ashamed</td>\n",
       "      <td>Distressed</td>\n",
       "      <td>Angry</td>\n",
       "      <td>Sad</td>\n",
       "      <td>Frustrated</td>\n",
       "      <td>D</td>\n",
       "      <td>Sad</td>\n",
       "      <td>D</td>\n",
       "      <td>When a pleasant experience ends unexpectedly, ...</td>\n",
       "      <td>Answer: D  \\nExplanation: When a pleasant expe...</td>\n",
       "      <td>1</td>\n",
       "    </tr>\n",
       "    <tr>\n",
       "      <th>2</th>\n",
       "      <td>The following questions each describe a situat...</td>\n",
       "      <td>Xavier completes a difficult task on time and ...</td>\n",
       "      <td>Surprise</td>\n",
       "      <td>Pride</td>\n",
       "      <td>Relief</td>\n",
       "      <td>Hope</td>\n",
       "      <td>Joy</td>\n",
       "      <td>B</td>\n",
       "      <td>Pride</td>\n",
       "      <td>B</td>\n",
       "      <td>Completing a difficult task on time and under ...</td>\n",
       "      <td>Answer: B  \\nExplanation: Completing a difficu...</td>\n",
       "      <td>1</td>\n",
       "    </tr>\n",
       "    <tr>\n",
       "      <th>3</th>\n",
       "      <td>The following questions each describe a situat...</td>\n",
       "      <td>An irritating neighbour of Eve's moves to anot...</td>\n",
       "      <td>Regret</td>\n",
       "      <td>Hope</td>\n",
       "      <td>Relief</td>\n",
       "      <td>Sadness</td>\n",
       "      <td>Joy</td>\n",
       "      <td>C</td>\n",
       "      <td>Relief</td>\n",
       "      <td>C</td>\n",
       "      <td>In this situation, Eve is most likely to feel ...</td>\n",
       "      <td>Answer: C  \\nExplanation: In this situation, E...</td>\n",
       "      <td>1</td>\n",
       "    </tr>\n",
       "    <tr>\n",
       "      <th>4</th>\n",
       "      <td>The following questions each describe a situat...</td>\n",
       "      <td>There is great weather on the day Jill is goin...</td>\n",
       "      <td>Pride</td>\n",
       "      <td>Joy</td>\n",
       "      <td>Relief</td>\n",
       "      <td>Guilt</td>\n",
       "      <td>Hope</td>\n",
       "      <td>B</td>\n",
       "      <td>Joy</td>\n",
       "      <td>B</td>\n",
       "      <td>Great weather on the day of an outdoor picnic ...</td>\n",
       "      <td>Answer: B  \\nExplanation: Great weather on the...</td>\n",
       "      <td>1</td>\n",
       "    </tr>\n",
       "  </tbody>\n",
       "</table>\n",
       "</div>"
      ],
      "text/plain": [
       "                                        Instructions  \\\n",
       "0  The following questions each describe a situat...   \n",
       "1  The following questions each describe a situat...   \n",
       "2  The following questions each describe a situat...   \n",
       "3  The following questions each describe a situat...   \n",
       "4  The following questions each describe a situat...   \n",
       "\n",
       "                                           situation         A           B  \\\n",
       "0  Clara receives a gift. Clara is most likely to...     Happy       Angry   \n",
       "1  A pleasant experience ceases unexpectedly and ...   Ashamed  Distressed   \n",
       "2  Xavier completes a difficult task on time and ...  Surprise       Pride   \n",
       "3  An irritating neighbour of Eve's moves to anot...    Regret        Hope   \n",
       "4  There is great weather on the day Jill is goin...     Pride         Joy   \n",
       "\n",
       "            C        D           E answer label  answer pred  \\\n",
       "0  Frightened    Bored      Hungry            A   Happy    A   \n",
       "1       Angry      Sad  Frustrated            D     Sad    D   \n",
       "2      Relief     Hope         Joy            B   Pride    B   \n",
       "3      Relief  Sadness         Joy            C  Relief    C   \n",
       "4      Relief    Guilt        Hope            B     Joy    B   \n",
       "\n",
       "                                         explanation  \\\n",
       "0  Receiving a gift usually evokes feelings of ha...   \n",
       "1  When a pleasant experience ends unexpectedly, ...   \n",
       "2  Completing a difficult task on time and under ...   \n",
       "3  In this situation, Eve is most likely to feel ...   \n",
       "4  Great weather on the day of an outdoor picnic ...   \n",
       "\n",
       "                                            response  is_correct  \n",
       "0  Answer: A  \\nExplanation: Receiving a gift usu...           1  \n",
       "1  Answer: D  \\nExplanation: When a pleasant expe...           1  \n",
       "2  Answer: B  \\nExplanation: Completing a difficu...           1  \n",
       "3  Answer: C  \\nExplanation: In this situation, E...           1  \n",
       "4  Answer: B  \\nExplanation: Great weather on the...           1  "
      ]
     },
     "execution_count": 28,
     "metadata": {},
     "output_type": "execute_result"
    }
   ],
   "source": [
    "import tqdm.notebook as tqdm\n",
    "results = []\n",
    "\n",
    "for index, row in tqdm.tqdm(questions.iterrows(), total = len(questions)):\n",
    "\n",
    "    situation = f\"{row['situation']} \\nA. {row['A']} B. {row['B']} C. {row['C']} D. {row['D']} E. {row['E']}\"\n",
    "    prompt = prompt_template.replace(\"$situation\", situation)\n",
    "\n",
    "    response = query_openai(prompt)\n",
    "    answer, explanation = extract_answer_and_explanation(response)\n",
    "    \n",
    "    row_dict = row.to_dict()\n",
    "    row_dict[\"pred\"] = answer\n",
    "    row_dict[\"explanation\"] = explanation\n",
    "    row_dict[\"response\"] = response\n",
    "\n",
    "    row_dict[\"is_correct\"] = int(row_dict['answer label'].lower() == row_dict['pred'].lower())\n",
    "    results.append(row_dict)\n",
    "\n",
    "results = pd.DataFrame(results)\n",
    "results.head()"
   ]
  },
  {
   "cell_type": "code",
   "execution_count": 32,
   "metadata": {},
   "outputs": [],
   "source": [
    "results.to_csv(\"../results/gpt4o-mini/steu-results.csv\", index=False)"
   ]
  },
  {
   "cell_type": "code",
   "execution_count": null,
   "metadata": {},
   "outputs": [],
   "source": []
  },
  {
   "cell_type": "code",
   "execution_count": 30,
   "metadata": {},
   "outputs": [
    {
     "data": {
      "text/plain": [
       "0.7906976744186046"
      ]
     },
     "execution_count": 30,
     "metadata": {},
     "output_type": "execute_result"
    }
   ],
   "source": [
    "results[\"is_correct\"].mean()"
   ]
  },
  {
   "cell_type": "markdown",
   "metadata": {},
   "source": [
    "### Extending to compile all results STEU\n",
    "\n",
    "Some cases did not generate any predictions for Gemma, if nothing was predicted `is_correct`=0 "
   ]
  },
  {
   "cell_type": "code",
   "execution_count": 11,
   "metadata": {},
   "outputs": [
    {
     "name": "stdout",
     "output_type": "stream",
     "text": [
      "STEU ACCURACY RESULTS\n",
      "gemma-2-27b-it                : 0.5813953488372093\n",
      "Mixtral-8x7B-Instruct-v0.1    : 0.5581395348837209\n",
      "Meta-Llama-3.1-70B-Instruct   : 0.627906976744186\n",
      "gpt4o-mini                    : 0.7906976744186046\n"
     ]
    }
   ],
   "source": [
    "FILE_NAME = 'steu-results.csv'\n",
    "RESULTS_MODS = '../results/'\n",
    "print(\"STEU ACCURACY RESULTS\")\n",
    "for model_dir in os.listdir(RESULTS_MODS):\n",
    "    df = pd.read_csv(os.path.join(RESULTS_MODS, model_dir, FILE_NAME))\n",
    "    print(f\"{model_dir:<30}: {df['is_correct'].mean():<15}\")"
   ]
  }
 ],
 "metadata": {
  "kernelspec": {
   "display_name": "nlp",
   "language": "python",
   "name": "python3"
  },
  "language_info": {
   "codemirror_mode": {
    "name": "ipython",
    "version": 3
   },
   "file_extension": ".py",
   "mimetype": "text/x-python",
   "name": "python",
   "nbconvert_exporter": "python",
   "pygments_lexer": "ipython3",
   "version": "3.9.19"
  }
 },
 "nbformat": 4,
 "nbformat_minor": 2
}
